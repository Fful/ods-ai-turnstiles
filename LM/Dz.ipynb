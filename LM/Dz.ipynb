{
 "cells": [
  {
   "cell_type": "code",
   "execution_count": 8,
   "id": "e701389a",
   "metadata": {},
   "outputs": [],
   "source": [
    "import pandas as pd\n",
    "import numpy as np\n",
    "import matplotlib.pyplot as plt\n",
    "import seaborn as sns\n"
   ]
  },
  {
   "cell_type": "markdown",
   "id": "11ccf6a3",
   "metadata": {},
   "source": [
    "## TASK 1"
   ]
  },
  {
   "cell_type": "code",
   "execution_count": 9,
   "id": "a1637cfb",
   "metadata": {},
   "outputs": [
    {
     "data": {
      "text/plain": [
       "array([ 112.70233835, -251.31800244,    9.96476522,  133.93931697,\n",
       "          4.2581094 ,   -5.31253045,  -64.04713907, -310.25999142,\n",
       "         31.98763282,   11.01090825, -246.95406877,  -93.30912453,\n",
       "       -100.90507735,   54.64259849,  -33.79282037,   86.30465566,\n",
       "         89.70110819, -209.87555665,   50.72379345,  420.25825187,\n",
       "        134.63627558,   93.93691957,  -34.38193529,  225.87509498,\n",
       "        353.0086491 , -275.20266926,  252.88541717, -362.16087086,\n",
       "        366.24565465, -243.25938612,   94.14377093,  -49.32834032,\n",
       "         60.00057562,  215.42511865,  273.80501286,  274.04022805,\n",
       "        315.74644977,   31.78317575,  -26.66604594,  243.307989  ,\n",
       "       -238.17026837,  283.66533576,  -52.18949103,  -90.25662114,\n",
       "        -66.9239505 ,   37.94500785,  143.26393459,  235.77390487,\n",
       "        -22.0852962 ,   94.13371344,  -63.38850036,  -36.69795809,\n",
       "         57.38953777, -167.76626889,   97.12667422,   41.03082142,\n",
       "        113.36238546, -329.82311   ,  232.87332169, -107.93371683,\n",
       "          5.735182  ,  173.80227416,  -31.04187667,  -11.03805741,\n",
       "        -17.13036702, -223.10503239,   99.23574296,    5.63174868,\n",
       "        195.59963883,  211.73289263,  -98.03614711,  195.16216722,\n",
       "       -145.89164869,   13.46564012,  -44.7831342 ,  -94.52903047,\n",
       "       -246.53694657,  -16.16723657,  147.18787698, -457.4874956 ,\n",
       "          1.16836557,   -9.50576558,   55.06901207,  -64.59274017,\n",
       "        -81.15851211,  198.75748303,  -25.49639518, -258.96848067,\n",
       "         91.28251761,  116.0965046 ,  147.79762882,  -57.68547003,\n",
       "         74.39398939,  287.59042161,   26.36528021,  -89.59971509,\n",
       "        -27.12863088, -227.19456522,  115.09494851,  -12.64489663])"
      ]
     },
     "execution_count": 9,
     "metadata": {},
     "output_type": "execute_result"
    }
   ],
   "source": [
    "from sklearn.datasets import make_regression\n",
    "X, y = make_regression(n_samples=100, n_features=20, noise=10, random_state=42)\n",
    "y"
   ]
  },
  {
   "cell_type": "code",
   "execution_count": 10,
   "id": "b0b444ff",
   "metadata": {},
   "outputs": [],
   "source": [
    "features = pd.DataFrame(data=X)"
   ]
  },
  {
   "cell_type": "code",
   "execution_count": 11,
   "id": "f82305a1",
   "metadata": {},
   "outputs": [
    {
     "data": {
      "text/html": [
       "<div>\n",
       "<style scoped>\n",
       "    .dataframe tbody tr th:only-of-type {\n",
       "        vertical-align: middle;\n",
       "    }\n",
       "\n",
       "    .dataframe tbody tr th {\n",
       "        vertical-align: top;\n",
       "    }\n",
       "\n",
       "    .dataframe thead th {\n",
       "        text-align: right;\n",
       "    }\n",
       "</style>\n",
       "<table border=\"1\" class=\"dataframe\">\n",
       "  <thead>\n",
       "    <tr style=\"text-align: right;\">\n",
       "      <th></th>\n",
       "      <th>0</th>\n",
       "      <th>1</th>\n",
       "      <th>2</th>\n",
       "      <th>3</th>\n",
       "      <th>4</th>\n",
       "      <th>5</th>\n",
       "      <th>6</th>\n",
       "      <th>7</th>\n",
       "      <th>8</th>\n",
       "      <th>9</th>\n",
       "      <th>10</th>\n",
       "      <th>11</th>\n",
       "      <th>12</th>\n",
       "      <th>13</th>\n",
       "      <th>14</th>\n",
       "      <th>15</th>\n",
       "      <th>16</th>\n",
       "      <th>17</th>\n",
       "      <th>18</th>\n",
       "      <th>19</th>\n",
       "    </tr>\n",
       "  </thead>\n",
       "  <tbody>\n",
       "    <tr>\n",
       "      <th>count</th>\n",
       "      <td>100.000000</td>\n",
       "      <td>100.000000</td>\n",
       "      <td>100.000000</td>\n",
       "      <td>100.000000</td>\n",
       "      <td>100.000000</td>\n",
       "      <td>100.000000</td>\n",
       "      <td>100.000000</td>\n",
       "      <td>100.000000</td>\n",
       "      <td>100.000000</td>\n",
       "      <td>100.000000</td>\n",
       "      <td>100.000000</td>\n",
       "      <td>100.000000</td>\n",
       "      <td>100.000000</td>\n",
       "      <td>100.000000</td>\n",
       "      <td>100.000000</td>\n",
       "      <td>100.000000</td>\n",
       "      <td>100.000000</td>\n",
       "      <td>100.000000</td>\n",
       "      <td>100.000000</td>\n",
       "      <td>100.000000</td>\n",
       "    </tr>\n",
       "    <tr>\n",
       "      <th>mean</th>\n",
       "      <td>0.066483</td>\n",
       "      <td>-0.090669</td>\n",
       "      <td>0.148793</td>\n",
       "      <td>-0.009252</td>\n",
       "      <td>0.066883</td>\n",
       "      <td>0.138678</td>\n",
       "      <td>-0.020263</td>\n",
       "      <td>0.135566</td>\n",
       "      <td>0.048246</td>\n",
       "      <td>0.021527</td>\n",
       "      <td>-0.067366</td>\n",
       "      <td>0.116212</td>\n",
       "      <td>0.181512</td>\n",
       "      <td>-0.021257</td>\n",
       "      <td>0.140830</td>\n",
       "      <td>0.164645</td>\n",
       "      <td>-0.083936</td>\n",
       "      <td>0.011392</td>\n",
       "      <td>-0.013781</td>\n",
       "      <td>-0.032560</td>\n",
       "    </tr>\n",
       "    <tr>\n",
       "      <th>std</th>\n",
       "      <td>1.029991</td>\n",
       "      <td>0.977525</td>\n",
       "      <td>0.933608</td>\n",
       "      <td>0.895542</td>\n",
       "      <td>0.927696</td>\n",
       "      <td>0.923655</td>\n",
       "      <td>0.978568</td>\n",
       "      <td>0.946059</td>\n",
       "      <td>0.904497</td>\n",
       "      <td>1.078934</td>\n",
       "      <td>0.849485</td>\n",
       "      <td>1.024664</td>\n",
       "      <td>1.045479</td>\n",
       "      <td>1.053048</td>\n",
       "      <td>0.921654</td>\n",
       "      <td>1.088579</td>\n",
       "      <td>1.063061</td>\n",
       "      <td>1.186164</td>\n",
       "      <td>1.007022</td>\n",
       "      <td>0.885011</td>\n",
       "    </tr>\n",
       "    <tr>\n",
       "      <th>min</th>\n",
       "      <td>-2.896255</td>\n",
       "      <td>-1.975467</td>\n",
       "      <td>-2.499406</td>\n",
       "      <td>-2.172670</td>\n",
       "      <td>-2.423879</td>\n",
       "      <td>-1.703382</td>\n",
       "      <td>-1.748532</td>\n",
       "      <td>-1.760809</td>\n",
       "      <td>-2.471645</td>\n",
       "      <td>-3.241267</td>\n",
       "      <td>-2.703232</td>\n",
       "      <td>-2.198806</td>\n",
       "      <td>-2.619745</td>\n",
       "      <td>-2.591042</td>\n",
       "      <td>-2.872262</td>\n",
       "      <td>-2.152891</td>\n",
       "      <td>-2.696887</td>\n",
       "      <td>-2.940389</td>\n",
       "      <td>-2.151815</td>\n",
       "      <td>-2.650970</td>\n",
       "    </tr>\n",
       "    <tr>\n",
       "      <th>25%</th>\n",
       "      <td>-0.534866</td>\n",
       "      <td>-0.857052</td>\n",
       "      <td>-0.356271</td>\n",
       "      <td>-0.640109</td>\n",
       "      <td>-0.496090</td>\n",
       "      <td>-0.552580</td>\n",
       "      <td>-0.766607</td>\n",
       "      <td>-0.655722</td>\n",
       "      <td>-0.585946</td>\n",
       "      <td>-0.650129</td>\n",
       "      <td>-0.555773</td>\n",
       "      <td>-0.659615</td>\n",
       "      <td>-0.531525</td>\n",
       "      <td>-0.676945</td>\n",
       "      <td>-0.435979</td>\n",
       "      <td>-0.608664</td>\n",
       "      <td>-0.945732</td>\n",
       "      <td>-0.684015</td>\n",
       "      <td>-0.775432</td>\n",
       "      <td>-0.554979</td>\n",
       "    </tr>\n",
       "    <tr>\n",
       "      <th>50%</th>\n",
       "      <td>-0.028445</td>\n",
       "      <td>-0.076344</td>\n",
       "      <td>0.178798</td>\n",
       "      <td>-0.016458</td>\n",
       "      <td>0.131194</td>\n",
       "      <td>0.145691</td>\n",
       "      <td>-0.020941</td>\n",
       "      <td>0.147305</td>\n",
       "      <td>-0.012252</td>\n",
       "      <td>0.044188</td>\n",
       "      <td>-0.010110</td>\n",
       "      <td>0.214404</td>\n",
       "      <td>0.046091</td>\n",
       "      <td>-0.094711</td>\n",
       "      <td>0.174999</td>\n",
       "      <td>0.024079</td>\n",
       "      <td>-0.004435</td>\n",
       "      <td>0.091795</td>\n",
       "      <td>-0.022596</td>\n",
       "      <td>0.040263</td>\n",
       "    </tr>\n",
       "    <tr>\n",
       "      <th>75%</th>\n",
       "      <td>0.757704</td>\n",
       "      <td>0.531959</td>\n",
       "      <td>0.721849</td>\n",
       "      <td>0.564199</td>\n",
       "      <td>0.493497</td>\n",
       "      <td>0.839220</td>\n",
       "      <td>0.622830</td>\n",
       "      <td>0.759989</td>\n",
       "      <td>0.654505</td>\n",
       "      <td>0.691722</td>\n",
       "      <td>0.466162</td>\n",
       "      <td>0.819755</td>\n",
       "      <td>0.997346</td>\n",
       "      <td>0.648388</td>\n",
       "      <td>0.751524</td>\n",
       "      <td>0.860472</td>\n",
       "      <td>0.623706</td>\n",
       "      <td>0.821707</td>\n",
       "      <td>0.584392</td>\n",
       "      <td>0.591680</td>\n",
       "    </tr>\n",
       "    <tr>\n",
       "      <th>max</th>\n",
       "      <td>2.290943</td>\n",
       "      <td>2.439752</td>\n",
       "      <td>2.526932</td>\n",
       "      <td>2.122156</td>\n",
       "      <td>3.137749</td>\n",
       "      <td>3.078881</td>\n",
       "      <td>2.270693</td>\n",
       "      <td>2.455300</td>\n",
       "      <td>2.133033</td>\n",
       "      <td>2.560085</td>\n",
       "      <td>1.848956</td>\n",
       "      <td>2.601683</td>\n",
       "      <td>2.644343</td>\n",
       "      <td>3.193108</td>\n",
       "      <td>2.720169</td>\n",
       "      <td>3.852731</td>\n",
       "      <td>2.170943</td>\n",
       "      <td>2.558199</td>\n",
       "      <td>2.403416</td>\n",
       "      <td>1.765454</td>\n",
       "    </tr>\n",
       "  </tbody>\n",
       "</table>\n",
       "</div>"
      ],
      "text/plain": [
       "               0           1           2           3           4           5   \\\n",
       "count  100.000000  100.000000  100.000000  100.000000  100.000000  100.000000   \n",
       "mean     0.066483   -0.090669    0.148793   -0.009252    0.066883    0.138678   \n",
       "std      1.029991    0.977525    0.933608    0.895542    0.927696    0.923655   \n",
       "min     -2.896255   -1.975467   -2.499406   -2.172670   -2.423879   -1.703382   \n",
       "25%     -0.534866   -0.857052   -0.356271   -0.640109   -0.496090   -0.552580   \n",
       "50%     -0.028445   -0.076344    0.178798   -0.016458    0.131194    0.145691   \n",
       "75%      0.757704    0.531959    0.721849    0.564199    0.493497    0.839220   \n",
       "max      2.290943    2.439752    2.526932    2.122156    3.137749    3.078881   \n",
       "\n",
       "               6           7           8           9           10          11  \\\n",
       "count  100.000000  100.000000  100.000000  100.000000  100.000000  100.000000   \n",
       "mean    -0.020263    0.135566    0.048246    0.021527   -0.067366    0.116212   \n",
       "std      0.978568    0.946059    0.904497    1.078934    0.849485    1.024664   \n",
       "min     -1.748532   -1.760809   -2.471645   -3.241267   -2.703232   -2.198806   \n",
       "25%     -0.766607   -0.655722   -0.585946   -0.650129   -0.555773   -0.659615   \n",
       "50%     -0.020941    0.147305   -0.012252    0.044188   -0.010110    0.214404   \n",
       "75%      0.622830    0.759989    0.654505    0.691722    0.466162    0.819755   \n",
       "max      2.270693    2.455300    2.133033    2.560085    1.848956    2.601683   \n",
       "\n",
       "               12          13          14          15          16          17  \\\n",
       "count  100.000000  100.000000  100.000000  100.000000  100.000000  100.000000   \n",
       "mean     0.181512   -0.021257    0.140830    0.164645   -0.083936    0.011392   \n",
       "std      1.045479    1.053048    0.921654    1.088579    1.063061    1.186164   \n",
       "min     -2.619745   -2.591042   -2.872262   -2.152891   -2.696887   -2.940389   \n",
       "25%     -0.531525   -0.676945   -0.435979   -0.608664   -0.945732   -0.684015   \n",
       "50%      0.046091   -0.094711    0.174999    0.024079   -0.004435    0.091795   \n",
       "75%      0.997346    0.648388    0.751524    0.860472    0.623706    0.821707   \n",
       "max      2.644343    3.193108    2.720169    3.852731    2.170943    2.558199   \n",
       "\n",
       "               18          19  \n",
       "count  100.000000  100.000000  \n",
       "mean    -0.013781   -0.032560  \n",
       "std      1.007022    0.885011  \n",
       "min     -2.151815   -2.650970  \n",
       "25%     -0.775432   -0.554979  \n",
       "50%     -0.022596    0.040263  \n",
       "75%      0.584392    0.591680  \n",
       "max      2.403416    1.765454  "
      ]
     },
     "execution_count": 11,
     "metadata": {},
     "output_type": "execute_result"
    }
   ],
   "source": [
    "features.describe()"
   ]
  },
  {
   "cell_type": "code",
   "execution_count": 12,
   "id": "3fa3d58f",
   "metadata": {},
   "outputs": [],
   "source": [
    "lables = pd.DataFrame(data=y)"
   ]
  },
  {
   "cell_type": "code",
   "execution_count": 13,
   "id": "05c2b1b7",
   "metadata": {},
   "outputs": [
    {
     "data": {
      "text/html": [
       "<div>\n",
       "<style scoped>\n",
       "    .dataframe tbody tr th:only-of-type {\n",
       "        vertical-align: middle;\n",
       "    }\n",
       "\n",
       "    .dataframe tbody tr th {\n",
       "        vertical-align: top;\n",
       "    }\n",
       "\n",
       "    .dataframe thead th {\n",
       "        text-align: right;\n",
       "    }\n",
       "</style>\n",
       "<table border=\"1\" class=\"dataframe\">\n",
       "  <thead>\n",
       "    <tr style=\"text-align: right;\">\n",
       "      <th></th>\n",
       "      <th>0</th>\n",
       "    </tr>\n",
       "  </thead>\n",
       "  <tbody>\n",
       "    <tr>\n",
       "      <th>count</th>\n",
       "      <td>100.000000</td>\n",
       "    </tr>\n",
       "    <tr>\n",
       "      <th>mean</th>\n",
       "      <td>17.163369</td>\n",
       "    </tr>\n",
       "    <tr>\n",
       "      <th>std</th>\n",
       "      <td>170.584475</td>\n",
       "    </tr>\n",
       "    <tr>\n",
       "      <th>min</th>\n",
       "      <td>-457.487496</td>\n",
       "    </tr>\n",
       "    <tr>\n",
       "      <th>25%</th>\n",
       "      <td>-65.175543</td>\n",
       "    </tr>\n",
       "    <tr>\n",
       "      <th>50%</th>\n",
       "      <td>7.849974</td>\n",
       "    </tr>\n",
       "    <tr>\n",
       "      <th>75%</th>\n",
       "      <td>115.345338</td>\n",
       "    </tr>\n",
       "    <tr>\n",
       "      <th>max</th>\n",
       "      <td>420.258252</td>\n",
       "    </tr>\n",
       "  </tbody>\n",
       "</table>\n",
       "</div>"
      ],
      "text/plain": [
       "                0\n",
       "count  100.000000\n",
       "mean    17.163369\n",
       "std    170.584475\n",
       "min   -457.487496\n",
       "25%    -65.175543\n",
       "50%      7.849974\n",
       "75%    115.345338\n",
       "max    420.258252"
      ]
     },
     "execution_count": 13,
     "metadata": {},
     "output_type": "execute_result"
    }
   ],
   "source": [
    "lables.describe()"
   ]
  },
  {
   "cell_type": "code",
   "execution_count": 14,
   "id": "ded17486",
   "metadata": {},
   "outputs": [
    {
     "name": "stdout",
     "output_type": "stream",
     "text": [
      "MSE Linear Regression: 18941.481963743186\n",
      "MSE Ridge Regression: 18892.002554314295\n",
      "MSE Lasso Regression: 132.02186450737\n"
     ]
    }
   ],
   "source": [
    "from sklearn.model_selection import train_test_split\n",
    "from sklearn.linear_model import LinearRegression, Ridge, Lasso\n",
    "from sklearn.metrics import mean_squared_error\n",
    "from sklearn.preprocessing import StandardScaler\n",
    "\n",
    "# Создаем данные\n",
    "X, y, coefs = make_regression(n_samples=1000, n_features=200, noise=10, random_state=42, coef=True)\n",
    "\n",
    "# Выбираем случайные 100 наблюдений\n",
    "X_sampled, _, y_sampled, _ = train_test_split(X, y, test_size=0.9, random_state=42)\n",
    "\n",
    "# Строим модели\n",
    "linear_reg = LinearRegression()\n",
    "ridge_reg = Ridge(random_state=1)\n",
    "lasso_reg = Lasso()\n",
    "\n",
    "# Обучаем модели на случайных 100 наблюдениях\n",
    "linear_reg.fit(X_sampled, y_sampled)\n",
    "ridge_reg.fit(X_sampled, y_sampled)\n",
    "lasso_reg.fit(X_sampled, y_sampled)\n",
    "\n",
    "# Получаем предсказания\n",
    "y_pred_linear = linear_reg.predict(X)\n",
    "y_pred_ridge = ridge_reg.predict(X)\n",
    "y_pred_lasso = lasso_reg.predict(X)\n",
    "\n",
    "# Оцениваем качество по mean_squared_error\n",
    "mse_linear = mean_squared_error(y, y_pred_linear)\n",
    "mse_ridge = mean_squared_error(y, y_pred_ridge)\n",
    "mse_lasso = mean_squared_error(y, y_pred_lasso)\n",
    "\n",
    "print(\"MSE Linear Regression:\", mse_linear)\n",
    "print(\"MSE Ridge Regression:\", mse_ridge)\n",
    "print(\"MSE Lasso Regression:\", mse_lasso)\n"
   ]
  },
  {
   "cell_type": "code",
   "execution_count": 15,
   "id": "88be1d67",
   "metadata": {},
   "outputs": [
    {
     "name": "stdout",
     "output_type": "stream",
     "text": [
      "Mean Coefficient Similarity Linear Regression: 6.692230417837655\n",
      "Mean Coefficient Similarity Ridge Regression: 6.649737949291521\n",
      "Mean Coefficient Similarity Lasso Regression: 0.170953102766091\n"
     ]
    }
   ],
   "source": [
    "# Истинные значения коэффициентов\n",
    "true_coefs = coefs\n",
    "\n",
    "# Оцениваем близость коэффициентов\n",
    "coef_similarity_linear = np.abs(linear_reg.coef_ - true_coefs).mean()\n",
    "coef_similarity_ridge = np.abs(ridge_reg.coef_ - true_coefs).mean()\n",
    "coef_similarity_lasso = np.abs(lasso_reg.coef_ - true_coefs).mean()\n",
    "\n",
    "print(\"Mean Coefficient Similarity Linear Regression:\", coef_similarity_linear)\n",
    "print(\"Mean Coefficient Similarity Ridge Regression:\", coef_similarity_ridge)\n",
    "print(\"Mean Coefficient Similarity Lasso Regression:\", coef_similarity_lasso)"
   ]
  },
  {
   "cell_type": "code",
   "execution_count": 16,
   "id": "00ae4b89",
   "metadata": {},
   "outputs": [
    {
     "data": {
      "text/plain": [
       "array([[-0.92216532,  1.87679581,  0.75698862, ..., -0.05558467,\n",
       "         0.10939479, -1.77872025],\n",
       "       [-0.08310557, -1.4575515 , -1.40631746, ...,  0.11502608,\n",
       "        -0.31905394,  0.31917451],\n",
       "       [ 0.81080827, -1.66249199, -0.13430874, ..., -0.21492103,\n",
       "        -0.56216803, -1.09096643],\n",
       "       ...,\n",
       "       [-0.15246984, -1.33123295,  0.1335409 , ...,  2.49299952,\n",
       "         0.91907648, -1.10336661],\n",
       "       [-1.37961816,  0.51308542, -0.97165673, ...,  0.75429133,\n",
       "        -0.02652126, -0.6414816 ],\n",
       "       [-2.84854262, -1.11966989,  0.77169871, ...,  0.47704083,\n",
       "        -1.5565819 , -0.4677012 ]])"
      ]
     },
     "execution_count": 16,
     "metadata": {},
     "output_type": "execute_result"
    }
   ],
   "source": [
    "X, y, coefs = make_regression(n_samples=100, n_features=20, noise=10, random_state=42, coef=True)\n",
    "X"
   ]
  },
  {
   "cell_type": "code",
   "execution_count": 17,
   "id": "fa2e0326",
   "metadata": {},
   "outputs": [
    {
     "data": {
      "text/plain": [
       "array([ 1.7722516 ,  0.46877426, -0.02751491, -0.87798259, -0.80317895,\n",
       "        1.49268857, -0.45709626,  0.3017919 , -0.60221206,  1.66125921,\n",
       "       -0.10015408, -0.82688035, -0.22647889,  0.36736551, -0.2711236 ,\n",
       "        1.22693322, -0.99838544, -0.20367375,  0.91358463,  0.76608028])"
      ]
     },
     "execution_count": 17,
     "metadata": {},
     "output_type": "execute_result"
    }
   ],
   "source": [
    "X[20]"
   ]
  },
  {
   "cell_type": "code",
   "execution_count": null,
   "id": "fcdb0b05",
   "metadata": {},
   "outputs": [],
   "source": []
  },
  {
   "cell_type": "code",
   "execution_count": 28,
   "id": "cd92af79",
   "metadata": {},
   "outputs": [],
   "source": [
    "X, y, coefs = make_regression(n_samples=100, n_features=20, noise=10, random_state=42, coef=True)\n",
    "X = pd.DataFrame(data=X, columns = [f'x{i}' for i in range(20)])\n",
    "\n",
    "# Добавляем столбец x['x20'] равный x['x1']\n",
    "X['x19'] = X['x1']\n",
    "\n",
    "# Нормируем данные\n",
    "scaler = StandardScaler()\n",
    "X_scaled = scaler.fit_transform(X)"
   ]
  },
  {
   "cell_type": "code",
   "execution_count": 29,
   "id": "c96ba9c6",
   "metadata": {},
   "outputs": [
    {
     "data": {
      "text/html": [
       "<style>#sk-container-id-1 {color: black;}#sk-container-id-1 pre{padding: 0;}#sk-container-id-1 div.sk-toggleable {background-color: white;}#sk-container-id-1 label.sk-toggleable__label {cursor: pointer;display: block;width: 100%;margin-bottom: 0;padding: 0.3em;box-sizing: border-box;text-align: center;}#sk-container-id-1 label.sk-toggleable__label-arrow:before {content: \"▸\";float: left;margin-right: 0.25em;color: #696969;}#sk-container-id-1 label.sk-toggleable__label-arrow:hover:before {color: black;}#sk-container-id-1 div.sk-estimator:hover label.sk-toggleable__label-arrow:before {color: black;}#sk-container-id-1 div.sk-toggleable__content {max-height: 0;max-width: 0;overflow: hidden;text-align: left;background-color: #f0f8ff;}#sk-container-id-1 div.sk-toggleable__content pre {margin: 0.2em;color: black;border-radius: 0.25em;background-color: #f0f8ff;}#sk-container-id-1 input.sk-toggleable__control:checked~div.sk-toggleable__content {max-height: 200px;max-width: 100%;overflow: auto;}#sk-container-id-1 input.sk-toggleable__control:checked~label.sk-toggleable__label-arrow:before {content: \"▾\";}#sk-container-id-1 div.sk-estimator input.sk-toggleable__control:checked~label.sk-toggleable__label {background-color: #d4ebff;}#sk-container-id-1 div.sk-label input.sk-toggleable__control:checked~label.sk-toggleable__label {background-color: #d4ebff;}#sk-container-id-1 input.sk-hidden--visually {border: 0;clip: rect(1px 1px 1px 1px);clip: rect(1px, 1px, 1px, 1px);height: 1px;margin: -1px;overflow: hidden;padding: 0;position: absolute;width: 1px;}#sk-container-id-1 div.sk-estimator {font-family: monospace;background-color: #f0f8ff;border: 1px dotted black;border-radius: 0.25em;box-sizing: border-box;margin-bottom: 0.5em;}#sk-container-id-1 div.sk-estimator:hover {background-color: #d4ebff;}#sk-container-id-1 div.sk-parallel-item::after {content: \"\";width: 100%;border-bottom: 1px solid gray;flex-grow: 1;}#sk-container-id-1 div.sk-label:hover label.sk-toggleable__label {background-color: #d4ebff;}#sk-container-id-1 div.sk-serial::before {content: \"\";position: absolute;border-left: 1px solid gray;box-sizing: border-box;top: 0;bottom: 0;left: 50%;z-index: 0;}#sk-container-id-1 div.sk-serial {display: flex;flex-direction: column;align-items: center;background-color: white;padding-right: 0.2em;padding-left: 0.2em;position: relative;}#sk-container-id-1 div.sk-item {position: relative;z-index: 1;}#sk-container-id-1 div.sk-parallel {display: flex;align-items: stretch;justify-content: center;background-color: white;position: relative;}#sk-container-id-1 div.sk-item::before, #sk-container-id-1 div.sk-parallel-item::before {content: \"\";position: absolute;border-left: 1px solid gray;box-sizing: border-box;top: 0;bottom: 0;left: 50%;z-index: -1;}#sk-container-id-1 div.sk-parallel-item {display: flex;flex-direction: column;z-index: 1;position: relative;background-color: white;}#sk-container-id-1 div.sk-parallel-item:first-child::after {align-self: flex-end;width: 50%;}#sk-container-id-1 div.sk-parallel-item:last-child::after {align-self: flex-start;width: 50%;}#sk-container-id-1 div.sk-parallel-item:only-child::after {width: 0;}#sk-container-id-1 div.sk-dashed-wrapped {border: 1px dashed gray;margin: 0 0.4em 0.5em 0.4em;box-sizing: border-box;padding-bottom: 0.4em;background-color: white;}#sk-container-id-1 div.sk-label label {font-family: monospace;font-weight: bold;display: inline-block;line-height: 1.2em;}#sk-container-id-1 div.sk-label-container {text-align: center;}#sk-container-id-1 div.sk-container {/* jupyter's `normalize.less` sets `[hidden] { display: none; }` but bootstrap.min.css set `[hidden] { display: none !important; }` so we also need the `!important` here to be able to override the default hidden behavior on the sphinx rendered scikit-learn.org. See: https://github.com/scikit-learn/scikit-learn/issues/21755 */display: inline-block !important;position: relative;}#sk-container-id-1 div.sk-text-repr-fallback {display: none;}</style><div id=\"sk-container-id-1\" class=\"sk-top-container\"><div class=\"sk-text-repr-fallback\"><pre>Lasso()</pre><b>In a Jupyter environment, please rerun this cell to show the HTML representation or trust the notebook. <br />On GitHub, the HTML representation is unable to render, please try loading this page with nbviewer.org.</b></div><div class=\"sk-container\" hidden><div class=\"sk-item\"><div class=\"sk-estimator sk-toggleable\"><input class=\"sk-toggleable__control sk-hidden--visually\" id=\"sk-estimator-id-1\" type=\"checkbox\" checked><label for=\"sk-estimator-id-1\" class=\"sk-toggleable__label sk-toggleable__label-arrow\">Lasso</label><div class=\"sk-toggleable__content\"><pre>Lasso()</pre></div></div></div></div></div>"
      ],
      "text/plain": [
       "Lasso()"
      ]
     },
     "execution_count": 29,
     "metadata": {},
     "output_type": "execute_result"
    }
   ],
   "source": [
    "linear_reg = LinearRegression()\n",
    "ridge_reg = Ridge(random_state=1)\n",
    "lasso_reg = Lasso()\n",
    "linear_reg.fit(X_scaled, y)\n",
    "ridge_reg.fit(X_scaled, y)\n",
    "lasso_reg.fit(X_scaled, y)"
   ]
  },
  {
   "cell_type": "code",
   "execution_count": 30,
   "id": "a5767423",
   "metadata": {},
   "outputs": [],
   "source": [
    "coef_change_linear = np.abs(linear_reg.coef_ - coefs).mean() > 0.1\n",
    "coef_change_ridge = np.abs(ridge_reg.coef_ - coefs).mean() > 0.1\n",
    "coef_change_lasso = np.abs(lasso_reg.coef_ - coefs).mean() > 0.1\n",
    "\n",
    "# Зануление коэффициентов Lasso\n",
    "zero_coefs_lasso = (lasso_reg.coef_ == 0).any()"
   ]
  },
  {
   "cell_type": "code",
   "execution_count": 31,
   "id": "373655ec",
   "metadata": {},
   "outputs": [],
   "source": [
    "# coef_reduction_ridge = (np.abs(ridge_reg.coef_[X.columns == 'x1']) < np.abs(coefs[X.columns == 'x1']) / 2) & (np.abs(ridge_reg.coef_[X.columns == 'x19']) < np.abs(coefs[X.columns == 'x19']) / 2)\n",
    "# coef_reduction_linear = (np.abs(linear_reg.coef_[X.columns == 'x1']) < np.abs(coefs[X.columns == 'x1']) / 2) & (np.abs(linear_reg.coef_[X.columns == 'x19']) < np.abs(coefs[X.columns == 'x19']) / 2)"
   ]
  },
  {
   "cell_type": "code",
   "execution_count": 32,
   "id": "4cb42573",
   "metadata": {},
   "outputs": [],
   "source": [
    "# Убираем из X важный x['x1']\n",
    "X, y, coefs = make_regression(n_samples=100, n_features=20, noise=10, random_state=42, coef=True)\n",
    "X = pd.DataFrame(data=X, columns = [f'x{i}' for i in range(20)])\n",
    "X_without_x1 = X.drop(columns=['x1'])"
   ]
  },
  {
   "cell_type": "code",
   "execution_count": 33,
   "id": "8eed8e65",
   "metadata": {},
   "outputs": [
    {
     "data": {
      "text/html": [
       "<style>#sk-container-id-2 {color: black;}#sk-container-id-2 pre{padding: 0;}#sk-container-id-2 div.sk-toggleable {background-color: white;}#sk-container-id-2 label.sk-toggleable__label {cursor: pointer;display: block;width: 100%;margin-bottom: 0;padding: 0.3em;box-sizing: border-box;text-align: center;}#sk-container-id-2 label.sk-toggleable__label-arrow:before {content: \"▸\";float: left;margin-right: 0.25em;color: #696969;}#sk-container-id-2 label.sk-toggleable__label-arrow:hover:before {color: black;}#sk-container-id-2 div.sk-estimator:hover label.sk-toggleable__label-arrow:before {color: black;}#sk-container-id-2 div.sk-toggleable__content {max-height: 0;max-width: 0;overflow: hidden;text-align: left;background-color: #f0f8ff;}#sk-container-id-2 div.sk-toggleable__content pre {margin: 0.2em;color: black;border-radius: 0.25em;background-color: #f0f8ff;}#sk-container-id-2 input.sk-toggleable__control:checked~div.sk-toggleable__content {max-height: 200px;max-width: 100%;overflow: auto;}#sk-container-id-2 input.sk-toggleable__control:checked~label.sk-toggleable__label-arrow:before {content: \"▾\";}#sk-container-id-2 div.sk-estimator input.sk-toggleable__control:checked~label.sk-toggleable__label {background-color: #d4ebff;}#sk-container-id-2 div.sk-label input.sk-toggleable__control:checked~label.sk-toggleable__label {background-color: #d4ebff;}#sk-container-id-2 input.sk-hidden--visually {border: 0;clip: rect(1px 1px 1px 1px);clip: rect(1px, 1px, 1px, 1px);height: 1px;margin: -1px;overflow: hidden;padding: 0;position: absolute;width: 1px;}#sk-container-id-2 div.sk-estimator {font-family: monospace;background-color: #f0f8ff;border: 1px dotted black;border-radius: 0.25em;box-sizing: border-box;margin-bottom: 0.5em;}#sk-container-id-2 div.sk-estimator:hover {background-color: #d4ebff;}#sk-container-id-2 div.sk-parallel-item::after {content: \"\";width: 100%;border-bottom: 1px solid gray;flex-grow: 1;}#sk-container-id-2 div.sk-label:hover label.sk-toggleable__label {background-color: #d4ebff;}#sk-container-id-2 div.sk-serial::before {content: \"\";position: absolute;border-left: 1px solid gray;box-sizing: border-box;top: 0;bottom: 0;left: 50%;z-index: 0;}#sk-container-id-2 div.sk-serial {display: flex;flex-direction: column;align-items: center;background-color: white;padding-right: 0.2em;padding-left: 0.2em;position: relative;}#sk-container-id-2 div.sk-item {position: relative;z-index: 1;}#sk-container-id-2 div.sk-parallel {display: flex;align-items: stretch;justify-content: center;background-color: white;position: relative;}#sk-container-id-2 div.sk-item::before, #sk-container-id-2 div.sk-parallel-item::before {content: \"\";position: absolute;border-left: 1px solid gray;box-sizing: border-box;top: 0;bottom: 0;left: 50%;z-index: -1;}#sk-container-id-2 div.sk-parallel-item {display: flex;flex-direction: column;z-index: 1;position: relative;background-color: white;}#sk-container-id-2 div.sk-parallel-item:first-child::after {align-self: flex-end;width: 50%;}#sk-container-id-2 div.sk-parallel-item:last-child::after {align-self: flex-start;width: 50%;}#sk-container-id-2 div.sk-parallel-item:only-child::after {width: 0;}#sk-container-id-2 div.sk-dashed-wrapped {border: 1px dashed gray;margin: 0 0.4em 0.5em 0.4em;box-sizing: border-box;padding-bottom: 0.4em;background-color: white;}#sk-container-id-2 div.sk-label label {font-family: monospace;font-weight: bold;display: inline-block;line-height: 1.2em;}#sk-container-id-2 div.sk-label-container {text-align: center;}#sk-container-id-2 div.sk-container {/* jupyter's `normalize.less` sets `[hidden] { display: none; }` but bootstrap.min.css set `[hidden] { display: none !important; }` so we also need the `!important` here to be able to override the default hidden behavior on the sphinx rendered scikit-learn.org. See: https://github.com/scikit-learn/scikit-learn/issues/21755 */display: inline-block !important;position: relative;}#sk-container-id-2 div.sk-text-repr-fallback {display: none;}</style><div id=\"sk-container-id-2\" class=\"sk-top-container\"><div class=\"sk-text-repr-fallback\"><pre>Lasso()</pre><b>In a Jupyter environment, please rerun this cell to show the HTML representation or trust the notebook. <br />On GitHub, the HTML representation is unable to render, please try loading this page with nbviewer.org.</b></div><div class=\"sk-container\" hidden><div class=\"sk-item\"><div class=\"sk-estimator sk-toggleable\"><input class=\"sk-toggleable__control sk-hidden--visually\" id=\"sk-estimator-id-2\" type=\"checkbox\" checked><label for=\"sk-estimator-id-2\" class=\"sk-toggleable__label sk-toggleable__label-arrow\">Lasso</label><div class=\"sk-toggleable__content\"><pre>Lasso()</pre></div></div></div></div></div>"
      ],
      "text/plain": [
       "Lasso()"
      ]
     },
     "execution_count": 33,
     "metadata": {},
     "output_type": "execute_result"
    }
   ],
   "source": [
    "scaler = StandardScaler()\n",
    "X_without_x1_scaled = scaler.fit_transform(X_without_x1)\n",
    "linear_reg_without_x1 = LinearRegression()\n",
    "ridge_reg_without_x1 = Ridge(random_state=1)\n",
    "lasso_reg_without_x1 = Lasso()\n",
    "linear_reg_without_x1.fit(X_without_x1_scaled, y)\n",
    "ridge_reg_without_x1.fit(X_without_x1_scaled, y)\n",
    "lasso_reg_without_x1.fit(X_without_x1_scaled, y)\n"
   ]
  },
  {
   "cell_type": "code",
   "execution_count": 34,
   "id": "338b91fc",
   "metadata": {},
   "outputs": [],
   "source": [
    "\n",
    "coef_change_linear_without_x1 = np.abs(linear_reg_without_x1.coef_ - coefs[1:]).mean() > 0.1\n",
    "coef_change_ridge_without_x1 = np.abs(ridge_reg_without_x1.coef_ - coefs[1:]).mean() > 0.1\n",
    "coef_change_lasso_without_x1 = np.abs(lasso_reg_without_x1.coef_ - coefs[1:]).mean() > 0.1\n",
    "zero_coefs_lasso_without_x1 = (lasso_reg_without_x1.coef_ == 0).any()\n",
    "\n",
    "# coef_reduction_ridge_without_x1 = (np.abs(ridge_reg_without_x1.coef_) < np.abs(coefs[1:]) / 2)\n",
    "# coef_reduction_linear_without_x1 = (np.abs(linear_reg_without_x1.coef_) < np.abs(coefs[1:]) / 2)"
   ]
  },
  {
   "cell_type": "code",
   "execution_count": null,
   "id": "3286f32d",
   "metadata": {},
   "outputs": [],
   "source": []
  },
  {
   "cell_type": "code",
   "execution_count": null,
   "id": "a643083c",
   "metadata": {},
   "outputs": [],
   "source": []
  }
 ],
 "metadata": {
  "kernelspec": {
   "display_name": "Python 3 (ipykernel)",
   "language": "python",
   "name": "python3"
  },
  "language_info": {
   "codemirror_mode": {
    "name": "ipython",
    "version": 3
   },
   "file_extension": ".py",
   "mimetype": "text/x-python",
   "name": "python",
   "nbconvert_exporter": "python",
   "pygments_lexer": "ipython3",
   "version": "3.9.17"
  }
 },
 "nbformat": 4,
 "nbformat_minor": 5
}
